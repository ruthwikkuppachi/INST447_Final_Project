{
 "metadata": {
  "language_info": {
   "codemirror_mode": {
    "name": "ipython",
    "version": 3
   },
   "file_extension": ".py",
   "mimetype": "text/x-python",
   "name": "python",
   "nbconvert_exporter": "python",
   "pygments_lexer": "ipython3",
   "version": "3.8.5"
  },
  "orig_nbformat": 2,
  "kernelspec": {
   "name": "python385jvsc74a57bd0d04d45689db1d358fd8ed664091df199d652bae4d6fc876f6de79fd09feebef2",
   "display_name": "Python 3.8.5 64-bit ('base': conda)"
  }
 },
 "nbformat": 4,
 "nbformat_minor": 2,
 "cells": [
  {
   "cell_type": "code",
   "execution_count": 1,
   "metadata": {},
   "outputs": [],
   "source": [
    "\n",
    "'''\n",
    "Importing Libraries\n",
    "'''\n",
    "import pandas as pd\n",
    "import numpy as np \n",
    "import seaborn as sns\n",
    "import requests\n",
    "import matplotlib.pyplot as plt\n"
   ]
  },
  {
   "cell_type": "code",
   "execution_count": 2,
   "metadata": {},
   "outputs": [
    {
     "output_type": "execute_result",
     "data": {
      "text/plain": [
       "    OBJECTID  RID  GENERIC_CASE_ID  GENERIC_OFFENDER_ID  CHARGE_NUMBER  \\\n",
       "0          1    1          3574668              3485785              1   \n",
       "1          2    2          3806508              7427096              9   \n",
       "2          3    3          3806508              7427096             12   \n",
       "3          4    4          3806508              7427096             13   \n",
       "4          5    5          3806508              7427096             15   \n",
       "5          6    6          3806508              7427096             16   \n",
       "6          7    7          7806164              1021121              2   \n",
       "7          8    8          9015717              5317747              4   \n",
       "8          9    9          4792566              7849479              6   \n",
       "9         10   10          4792566              7849479              7   \n",
       "10        11   11          4792566              7849479              8   \n",
       "11        12   12          7167194              5317747              5   \n",
       "12        13   13          7167194              5317747              7   \n",
       "13        14   14          5967414              2482848             10   \n",
       "14        15   15          5967414              2482848             11   \n",
       "15        16   16          8567971              8258401              4   \n",
       "16        17   17          8567971              8258401              7   \n",
       "17        18   18          8567971              8258401             10   \n",
       "18        19   19          8567971              8258401             11   \n",
       "19        20   20          8567971              8258401             12   \n",
       "\n",
       "    SENTENCE_YEAR              RACE GENDER AGE_GROUP  \\\n",
       "0            2018             Black      M     15-17   \n",
       "1            2018             Black      M     15-17   \n",
       "2            2018             Black      M     15-17   \n",
       "3            2018             Black      M     15-17   \n",
       "4            2018             Black      M     15-17   \n",
       "5            2018             Black      M     15-17   \n",
       "6            2018  Other or Unknown      M     22-30   \n",
       "7            2018  Other or Unknown      M     15-17   \n",
       "8            2018             Black      M     15-17   \n",
       "9            2018             Black      M     15-17   \n",
       "10           2018             Black      M     15-17   \n",
       "11           2018  Other or Unknown      M     15-17   \n",
       "12           2018  Other or Unknown      M     15-17   \n",
       "13           2018             Black      M     15-17   \n",
       "14           2018             Black      M     15-17   \n",
       "15           2018             Black      M     22-30   \n",
       "16           2018             Black      M     22-30   \n",
       "17           2018             Black      M     22-30   \n",
       "18           2018             Black      M     22-30   \n",
       "19           2018             Black      M     22-30   \n",
       "\n",
       "                                              OFFENSE  ...  \\\n",
       "0                              1ST DEG MURDER W/ARMED  ...   \n",
       "1                                          Conspiracy  ...   \n",
       "2                                            Murder I  ...   \n",
       "3                              1ST DEG MURDER W/ARMED  ...   \n",
       "4   Poss Firearm During Crime of Violence or Dange...  ...   \n",
       "5                 Carrying a Pistol Without a License  ...   \n",
       "6                                   UCSA PWID COCAINE  ...   \n",
       "7                           ASLT W/I KILL WHILE ARMED  ...   \n",
       "8                              1ST DEG MURDER W/ARMED  ...   \n",
       "9                         POS. F/A DURING VIO/DAG OFF  ...   \n",
       "10                Carrying a Pistol Without a License  ...   \n",
       "11                        POS. F/A DURING VIO/DAG OFF  ...   \n",
       "12                         VOLUNTARY MAN. WHILE ARMED  ...   \n",
       "13                             2ND DEG MURDER W/ARMED  ...   \n",
       "14                             2ND DEG MURDER W/ARMED  ...   \n",
       "15                        POS. F/A DURING VIO/DAG OFF  ...   \n",
       "16                        POS. F/A DURING VIO/DAG OFF  ...   \n",
       "17                        POS. F/A DURING VIO/DAG OFF  ...   \n",
       "18         CARRY PISTOL W/O LIC-OUTSIDE H0ME/BUSINESS  ...   \n",
       "19                                            ADW GUN  ...   \n",
       "\n",
       "   OFFENSE_SEVERITY_GROUP                SENTENCE_TYPE  \\\n",
       "0                      M1  Indeterminate/Incarceration   \n",
       "1                      M9                Indeterminate   \n",
       "2                      M1                         Life   \n",
       "3                      M1                         Life   \n",
       "4                      M5                Indeterminate   \n",
       "5                      M8                  Short Split   \n",
       "6                      D2                Indeterminate   \n",
       "7                      M3                    Probation   \n",
       "8                      M1                         Life   \n",
       "9                      M5                Indeterminate   \n",
       "10                     M8                  Short Split   \n",
       "11                     M5                Indeterminate   \n",
       "12                     M3  Indeterminate/Incarceration   \n",
       "13                     M2  Indeterminate/Incarceration   \n",
       "14                     M2  Indeterminate/Incarceration   \n",
       "15                     M5                Incarceration   \n",
       "16                     M5                Incarceration   \n",
       "17                     M5                Incarceration   \n",
       "18                     M8                Incarceration   \n",
       "19                     M6                Incarceration   \n",
       "\n",
       "   SENTENCE_IMPOSED_MONTHS SENTENCE_SUSPENDED_MONTHS  \\\n",
       "0                      NaN                       NaN   \n",
       "1                      NaN                       NaN   \n",
       "2                      NaN                       NaN   \n",
       "3                      NaN                       NaN   \n",
       "4                      NaN                       NaN   \n",
       "5                     12.0                      12.0   \n",
       "6                      NaN                       NaN   \n",
       "7                    180.0                     180.0   \n",
       "8                      NaN                       NaN   \n",
       "9                      NaN                       NaN   \n",
       "10                    20.0                      20.0   \n",
       "11                     NaN                       NaN   \n",
       "12                     NaN                       NaN   \n",
       "13                     NaN                       NaN   \n",
       "14                     NaN                       NaN   \n",
       "15                     1.0                       0.0   \n",
       "16                     1.0                       0.0   \n",
       "17                     1.0                       0.0   \n",
       "18                     1.0                       0.0   \n",
       "19                     1.0                       0.0   \n",
       "\n",
       "    SENTENCE_TO_SERVE_MONTHS  SENTENCE_PROBATION_MONTHS  VVCA_AMT  FINE_AMT  \\\n",
       "0                        NaN                        NaN       100       0.0   \n",
       "1                        NaN                        NaN         0       0.0   \n",
       "2                        NaN                        NaN         0       0.0   \n",
       "3                        NaN                        NaN         0       0.0   \n",
       "4                        NaN                        NaN         0       0.0   \n",
       "5                        1.0                       60.0         0       0.0   \n",
       "6                        NaN                        NaN         0       0.0   \n",
       "7                        0.0                       36.0         0       0.0   \n",
       "8                        NaN                        NaN       100       0.0   \n",
       "9                        NaN                        NaN       100       0.0   \n",
       "10                       1.0                       60.0       100       0.0   \n",
       "11                       NaN                        NaN         0       0.0   \n",
       "12                       NaN                        NaN         0       0.0   \n",
       "13                       NaN                        NaN         0       0.0   \n",
       "14                       NaN                        NaN         0       0.0   \n",
       "15                       1.0                        0.0       100       NaN   \n",
       "16                       1.0                        0.0       100       NaN   \n",
       "17                       1.0                        0.0       100       NaN   \n",
       "18                       1.0                        0.0       100       NaN   \n",
       "19                       1.0                        0.0       100       NaN   \n",
       "\n",
       "    RESTITUTION_AMT  FINE_SUSPENDED_AMT  \n",
       "0               0.0                 0.0  \n",
       "1               0.0                 0.0  \n",
       "2               0.0                 0.0  \n",
       "3               0.0                 0.0  \n",
       "4               0.0                 0.0  \n",
       "5               0.0                 0.0  \n",
       "6               0.0                 0.0  \n",
       "7               0.0                 0.0  \n",
       "8               0.0                 0.0  \n",
       "9               0.0                 0.0  \n",
       "10              0.0                 0.0  \n",
       "11              0.0                 0.0  \n",
       "12              0.0                 0.0  \n",
       "13              0.0                 0.0  \n",
       "14              0.0                 0.0  \n",
       "15              NaN                 0.0  \n",
       "16              NaN                 0.0  \n",
       "17              NaN                 0.0  \n",
       "18              NaN                 0.0  \n",
       "19              NaN                 0.0  \n",
       "\n",
       "[20 rows x 22 columns]"
      ],
      "text/html": "<div>\n<style scoped>\n    .dataframe tbody tr th:only-of-type {\n        vertical-align: middle;\n    }\n\n    .dataframe tbody tr th {\n        vertical-align: top;\n    }\n\n    .dataframe thead th {\n        text-align: right;\n    }\n</style>\n<table border=\"1\" class=\"dataframe\">\n  <thead>\n    <tr style=\"text-align: right;\">\n      <th></th>\n      <th>OBJECTID</th>\n      <th>RID</th>\n      <th>GENERIC_CASE_ID</th>\n      <th>GENERIC_OFFENDER_ID</th>\n      <th>CHARGE_NUMBER</th>\n      <th>SENTENCE_YEAR</th>\n      <th>RACE</th>\n      <th>GENDER</th>\n      <th>AGE_GROUP</th>\n      <th>OFFENSE</th>\n      <th>...</th>\n      <th>OFFENSE_SEVERITY_GROUP</th>\n      <th>SENTENCE_TYPE</th>\n      <th>SENTENCE_IMPOSED_MONTHS</th>\n      <th>SENTENCE_SUSPENDED_MONTHS</th>\n      <th>SENTENCE_TO_SERVE_MONTHS</th>\n      <th>SENTENCE_PROBATION_MONTHS</th>\n      <th>VVCA_AMT</th>\n      <th>FINE_AMT</th>\n      <th>RESTITUTION_AMT</th>\n      <th>FINE_SUSPENDED_AMT</th>\n    </tr>\n  </thead>\n  <tbody>\n    <tr>\n      <th>0</th>\n      <td>1</td>\n      <td>1</td>\n      <td>3574668</td>\n      <td>3485785</td>\n      <td>1</td>\n      <td>2018</td>\n      <td>Black</td>\n      <td>M</td>\n      <td>15-17</td>\n      <td>1ST DEG MURDER W/ARMED</td>\n      <td>...</td>\n      <td>M1</td>\n      <td>Indeterminate/Incarceration</td>\n      <td>NaN</td>\n      <td>NaN</td>\n      <td>NaN</td>\n      <td>NaN</td>\n      <td>100</td>\n      <td>0.0</td>\n      <td>0.0</td>\n      <td>0.0</td>\n    </tr>\n    <tr>\n      <th>1</th>\n      <td>2</td>\n      <td>2</td>\n      <td>3806508</td>\n      <td>7427096</td>\n      <td>9</td>\n      <td>2018</td>\n      <td>Black</td>\n      <td>M</td>\n      <td>15-17</td>\n      <td>Conspiracy</td>\n      <td>...</td>\n      <td>M9</td>\n      <td>Indeterminate</td>\n      <td>NaN</td>\n      <td>NaN</td>\n      <td>NaN</td>\n      <td>NaN</td>\n      <td>0</td>\n      <td>0.0</td>\n      <td>0.0</td>\n      <td>0.0</td>\n    </tr>\n    <tr>\n      <th>2</th>\n      <td>3</td>\n      <td>3</td>\n      <td>3806508</td>\n      <td>7427096</td>\n      <td>12</td>\n      <td>2018</td>\n      <td>Black</td>\n      <td>M</td>\n      <td>15-17</td>\n      <td>Murder I</td>\n      <td>...</td>\n      <td>M1</td>\n      <td>Life</td>\n      <td>NaN</td>\n      <td>NaN</td>\n      <td>NaN</td>\n      <td>NaN</td>\n      <td>0</td>\n      <td>0.0</td>\n      <td>0.0</td>\n      <td>0.0</td>\n    </tr>\n    <tr>\n      <th>3</th>\n      <td>4</td>\n      <td>4</td>\n      <td>3806508</td>\n      <td>7427096</td>\n      <td>13</td>\n      <td>2018</td>\n      <td>Black</td>\n      <td>M</td>\n      <td>15-17</td>\n      <td>1ST DEG MURDER W/ARMED</td>\n      <td>...</td>\n      <td>M1</td>\n      <td>Life</td>\n      <td>NaN</td>\n      <td>NaN</td>\n      <td>NaN</td>\n      <td>NaN</td>\n      <td>0</td>\n      <td>0.0</td>\n      <td>0.0</td>\n      <td>0.0</td>\n    </tr>\n    <tr>\n      <th>4</th>\n      <td>5</td>\n      <td>5</td>\n      <td>3806508</td>\n      <td>7427096</td>\n      <td>15</td>\n      <td>2018</td>\n      <td>Black</td>\n      <td>M</td>\n      <td>15-17</td>\n      <td>Poss Firearm During Crime of Violence or Dange...</td>\n      <td>...</td>\n      <td>M5</td>\n      <td>Indeterminate</td>\n      <td>NaN</td>\n      <td>NaN</td>\n      <td>NaN</td>\n      <td>NaN</td>\n      <td>0</td>\n      <td>0.0</td>\n      <td>0.0</td>\n      <td>0.0</td>\n    </tr>\n    <tr>\n      <th>5</th>\n      <td>6</td>\n      <td>6</td>\n      <td>3806508</td>\n      <td>7427096</td>\n      <td>16</td>\n      <td>2018</td>\n      <td>Black</td>\n      <td>M</td>\n      <td>15-17</td>\n      <td>Carrying a Pistol Without a License</td>\n      <td>...</td>\n      <td>M8</td>\n      <td>Short Split</td>\n      <td>12.0</td>\n      <td>12.0</td>\n      <td>1.0</td>\n      <td>60.0</td>\n      <td>0</td>\n      <td>0.0</td>\n      <td>0.0</td>\n      <td>0.0</td>\n    </tr>\n    <tr>\n      <th>6</th>\n      <td>7</td>\n      <td>7</td>\n      <td>7806164</td>\n      <td>1021121</td>\n      <td>2</td>\n      <td>2018</td>\n      <td>Other or Unknown</td>\n      <td>M</td>\n      <td>22-30</td>\n      <td>UCSA PWID COCAINE</td>\n      <td>...</td>\n      <td>D2</td>\n      <td>Indeterminate</td>\n      <td>NaN</td>\n      <td>NaN</td>\n      <td>NaN</td>\n      <td>NaN</td>\n      <td>0</td>\n      <td>0.0</td>\n      <td>0.0</td>\n      <td>0.0</td>\n    </tr>\n    <tr>\n      <th>7</th>\n      <td>8</td>\n      <td>8</td>\n      <td>9015717</td>\n      <td>5317747</td>\n      <td>4</td>\n      <td>2018</td>\n      <td>Other or Unknown</td>\n      <td>M</td>\n      <td>15-17</td>\n      <td>ASLT W/I KILL WHILE ARMED</td>\n      <td>...</td>\n      <td>M3</td>\n      <td>Probation</td>\n      <td>180.0</td>\n      <td>180.0</td>\n      <td>0.0</td>\n      <td>36.0</td>\n      <td>0</td>\n      <td>0.0</td>\n      <td>0.0</td>\n      <td>0.0</td>\n    </tr>\n    <tr>\n      <th>8</th>\n      <td>9</td>\n      <td>9</td>\n      <td>4792566</td>\n      <td>7849479</td>\n      <td>6</td>\n      <td>2018</td>\n      <td>Black</td>\n      <td>M</td>\n      <td>15-17</td>\n      <td>1ST DEG MURDER W/ARMED</td>\n      <td>...</td>\n      <td>M1</td>\n      <td>Life</td>\n      <td>NaN</td>\n      <td>NaN</td>\n      <td>NaN</td>\n      <td>NaN</td>\n      <td>100</td>\n      <td>0.0</td>\n      <td>0.0</td>\n      <td>0.0</td>\n    </tr>\n    <tr>\n      <th>9</th>\n      <td>10</td>\n      <td>10</td>\n      <td>4792566</td>\n      <td>7849479</td>\n      <td>7</td>\n      <td>2018</td>\n      <td>Black</td>\n      <td>M</td>\n      <td>15-17</td>\n      <td>POS. F/A DURING VIO/DAG OFF</td>\n      <td>...</td>\n      <td>M5</td>\n      <td>Indeterminate</td>\n      <td>NaN</td>\n      <td>NaN</td>\n      <td>NaN</td>\n      <td>NaN</td>\n      <td>100</td>\n      <td>0.0</td>\n      <td>0.0</td>\n      <td>0.0</td>\n    </tr>\n    <tr>\n      <th>10</th>\n      <td>11</td>\n      <td>11</td>\n      <td>4792566</td>\n      <td>7849479</td>\n      <td>8</td>\n      <td>2018</td>\n      <td>Black</td>\n      <td>M</td>\n      <td>15-17</td>\n      <td>Carrying a Pistol Without a License</td>\n      <td>...</td>\n      <td>M8</td>\n      <td>Short Split</td>\n      <td>20.0</td>\n      <td>20.0</td>\n      <td>1.0</td>\n      <td>60.0</td>\n      <td>100</td>\n      <td>0.0</td>\n      <td>0.0</td>\n      <td>0.0</td>\n    </tr>\n    <tr>\n      <th>11</th>\n      <td>12</td>\n      <td>12</td>\n      <td>7167194</td>\n      <td>5317747</td>\n      <td>5</td>\n      <td>2018</td>\n      <td>Other or Unknown</td>\n      <td>M</td>\n      <td>15-17</td>\n      <td>POS. F/A DURING VIO/DAG OFF</td>\n      <td>...</td>\n      <td>M5</td>\n      <td>Indeterminate</td>\n      <td>NaN</td>\n      <td>NaN</td>\n      <td>NaN</td>\n      <td>NaN</td>\n      <td>0</td>\n      <td>0.0</td>\n      <td>0.0</td>\n      <td>0.0</td>\n    </tr>\n    <tr>\n      <th>12</th>\n      <td>13</td>\n      <td>13</td>\n      <td>7167194</td>\n      <td>5317747</td>\n      <td>7</td>\n      <td>2018</td>\n      <td>Other or Unknown</td>\n      <td>M</td>\n      <td>15-17</td>\n      <td>VOLUNTARY MAN. WHILE ARMED</td>\n      <td>...</td>\n      <td>M3</td>\n      <td>Indeterminate/Incarceration</td>\n      <td>NaN</td>\n      <td>NaN</td>\n      <td>NaN</td>\n      <td>NaN</td>\n      <td>0</td>\n      <td>0.0</td>\n      <td>0.0</td>\n      <td>0.0</td>\n    </tr>\n    <tr>\n      <th>13</th>\n      <td>14</td>\n      <td>14</td>\n      <td>5967414</td>\n      <td>2482848</td>\n      <td>10</td>\n      <td>2018</td>\n      <td>Black</td>\n      <td>M</td>\n      <td>15-17</td>\n      <td>2ND DEG MURDER W/ARMED</td>\n      <td>...</td>\n      <td>M2</td>\n      <td>Indeterminate/Incarceration</td>\n      <td>NaN</td>\n      <td>NaN</td>\n      <td>NaN</td>\n      <td>NaN</td>\n      <td>0</td>\n      <td>0.0</td>\n      <td>0.0</td>\n      <td>0.0</td>\n    </tr>\n    <tr>\n      <th>14</th>\n      <td>15</td>\n      <td>15</td>\n      <td>5967414</td>\n      <td>2482848</td>\n      <td>11</td>\n      <td>2018</td>\n      <td>Black</td>\n      <td>M</td>\n      <td>15-17</td>\n      <td>2ND DEG MURDER W/ARMED</td>\n      <td>...</td>\n      <td>M2</td>\n      <td>Indeterminate/Incarceration</td>\n      <td>NaN</td>\n      <td>NaN</td>\n      <td>NaN</td>\n      <td>NaN</td>\n      <td>0</td>\n      <td>0.0</td>\n      <td>0.0</td>\n      <td>0.0</td>\n    </tr>\n    <tr>\n      <th>15</th>\n      <td>16</td>\n      <td>16</td>\n      <td>8567971</td>\n      <td>8258401</td>\n      <td>4</td>\n      <td>2018</td>\n      <td>Black</td>\n      <td>M</td>\n      <td>22-30</td>\n      <td>POS. F/A DURING VIO/DAG OFF</td>\n      <td>...</td>\n      <td>M5</td>\n      <td>Incarceration</td>\n      <td>1.0</td>\n      <td>0.0</td>\n      <td>1.0</td>\n      <td>0.0</td>\n      <td>100</td>\n      <td>NaN</td>\n      <td>NaN</td>\n      <td>0.0</td>\n    </tr>\n    <tr>\n      <th>16</th>\n      <td>17</td>\n      <td>17</td>\n      <td>8567971</td>\n      <td>8258401</td>\n      <td>7</td>\n      <td>2018</td>\n      <td>Black</td>\n      <td>M</td>\n      <td>22-30</td>\n      <td>POS. F/A DURING VIO/DAG OFF</td>\n      <td>...</td>\n      <td>M5</td>\n      <td>Incarceration</td>\n      <td>1.0</td>\n      <td>0.0</td>\n      <td>1.0</td>\n      <td>0.0</td>\n      <td>100</td>\n      <td>NaN</td>\n      <td>NaN</td>\n      <td>0.0</td>\n    </tr>\n    <tr>\n      <th>17</th>\n      <td>18</td>\n      <td>18</td>\n      <td>8567971</td>\n      <td>8258401</td>\n      <td>10</td>\n      <td>2018</td>\n      <td>Black</td>\n      <td>M</td>\n      <td>22-30</td>\n      <td>POS. F/A DURING VIO/DAG OFF</td>\n      <td>...</td>\n      <td>M5</td>\n      <td>Incarceration</td>\n      <td>1.0</td>\n      <td>0.0</td>\n      <td>1.0</td>\n      <td>0.0</td>\n      <td>100</td>\n      <td>NaN</td>\n      <td>NaN</td>\n      <td>0.0</td>\n    </tr>\n    <tr>\n      <th>18</th>\n      <td>19</td>\n      <td>19</td>\n      <td>8567971</td>\n      <td>8258401</td>\n      <td>11</td>\n      <td>2018</td>\n      <td>Black</td>\n      <td>M</td>\n      <td>22-30</td>\n      <td>CARRY PISTOL W/O LIC-OUTSIDE H0ME/BUSINESS</td>\n      <td>...</td>\n      <td>M8</td>\n      <td>Incarceration</td>\n      <td>1.0</td>\n      <td>0.0</td>\n      <td>1.0</td>\n      <td>0.0</td>\n      <td>100</td>\n      <td>NaN</td>\n      <td>NaN</td>\n      <td>0.0</td>\n    </tr>\n    <tr>\n      <th>19</th>\n      <td>20</td>\n      <td>20</td>\n      <td>8567971</td>\n      <td>8258401</td>\n      <td>12</td>\n      <td>2018</td>\n      <td>Black</td>\n      <td>M</td>\n      <td>22-30</td>\n      <td>ADW GUN</td>\n      <td>...</td>\n      <td>M6</td>\n      <td>Incarceration</td>\n      <td>1.0</td>\n      <td>0.0</td>\n      <td>1.0</td>\n      <td>0.0</td>\n      <td>100</td>\n      <td>NaN</td>\n      <td>NaN</td>\n      <td>0.0</td>\n    </tr>\n  </tbody>\n</table>\n<p>20 rows × 22 columns</p>\n</div>"
     },
     "metadata": {},
     "execution_count": 2
    }
   ],
   "source": [
    "data = pd.read_csv('Felony_Sentences.csv')\n",
    "\n",
    "data.head(20)"
   ]
  },
  {
   "cell_type": "code",
   "execution_count": 3,
   "metadata": {},
   "outputs": [
    {
     "output_type": "execute_result",
     "data": {
      "text/plain": [
       "'Race/offense type/sentence type/sentence imposted month - are sentences given similar for similar crimes by race?'"
      ]
     },
     "metadata": {},
     "execution_count": 3
    }
   ],
   "source": [
    "'''RID/Race/offesce type/offense/severity - is the severity of similar crimes the same by race?'''\n",
    "\n",
    "'''cases by race - how many cases are there per race?'''\n",
    "\n",
    "'''type by age and gender'''\n",
    "\n",
    "'''Race/offense type/sentence type/sentence imposted month - are sentences given similar for similar crimes by race?'''"
   ]
  },
  {
   "cell_type": "code",
   "execution_count": 3,
   "metadata": {},
   "outputs": [
    {
     "output_type": "execute_result",
     "data": {
      "text/plain": [
       "               RACE      0\n",
       "0             Black  21184\n",
       "1  Other or Unknown   1262\n",
       "2             White    823\n",
       "3          Hispanic     49\n",
       "4             Asian     12"
      ],
      "text/html": "<div>\n<style scoped>\n    .dataframe tbody tr th:only-of-type {\n        vertical-align: middle;\n    }\n\n    .dataframe tbody tr th {\n        vertical-align: top;\n    }\n\n    .dataframe thead th {\n        text-align: right;\n    }\n</style>\n<table border=\"1\" class=\"dataframe\">\n  <thead>\n    <tr style=\"text-align: right;\">\n      <th></th>\n      <th>RACE</th>\n      <th>0</th>\n    </tr>\n  </thead>\n  <tbody>\n    <tr>\n      <th>0</th>\n      <td>Black</td>\n      <td>21184</td>\n    </tr>\n    <tr>\n      <th>1</th>\n      <td>Other or Unknown</td>\n      <td>1262</td>\n    </tr>\n    <tr>\n      <th>2</th>\n      <td>White</td>\n      <td>823</td>\n    </tr>\n    <tr>\n      <th>3</th>\n      <td>Hispanic</td>\n      <td>49</td>\n    </tr>\n    <tr>\n      <th>4</th>\n      <td>Asian</td>\n      <td>12</td>\n    </tr>\n  </tbody>\n</table>\n</div>"
     },
     "metadata": {},
     "execution_count": 3
    }
   ],
   "source": [
    "race = data.value_counts('RACE').reset_index()\n",
    "race.head()"
   ]
  },
  {
   "cell_type": "code",
   "execution_count": 4,
   "metadata": {},
   "outputs": [
    {
     "output_type": "execute_result",
     "data": {
      "text/plain": [
       "  GENDER      0\n",
       "0      M  21218\n",
       "1      F   1858"
      ],
      "text/html": "<div>\n<style scoped>\n    .dataframe tbody tr th:only-of-type {\n        vertical-align: middle;\n    }\n\n    .dataframe tbody tr th {\n        vertical-align: top;\n    }\n\n    .dataframe thead th {\n        text-align: right;\n    }\n</style>\n<table border=\"1\" class=\"dataframe\">\n  <thead>\n    <tr style=\"text-align: right;\">\n      <th></th>\n      <th>GENDER</th>\n      <th>0</th>\n    </tr>\n  </thead>\n  <tbody>\n    <tr>\n      <th>0</th>\n      <td>M</td>\n      <td>21218</td>\n    </tr>\n    <tr>\n      <th>1</th>\n      <td>F</td>\n      <td>1858</td>\n    </tr>\n  </tbody>\n</table>\n</div>"
     },
     "metadata": {},
     "execution_count": 4
    }
   ],
   "source": [
    "gender = data.value_counts('GENDER').reset_index()\n",
    "gender.head()"
   ]
  },
  {
   "cell_type": "code",
   "execution_count": 63,
   "metadata": {},
   "outputs": [],
   "source": [
    "gender.columns.values[1] = 'count'"
   ]
  },
  {
   "cell_type": "code",
   "execution_count": 64,
   "metadata": {},
   "outputs": [],
   "source": [
    "gender.columns.values[0] = 'gender'"
   ]
  },
  {
   "cell_type": "code",
   "execution_count": 65,
   "metadata": {},
   "outputs": [
    {
     "output_type": "execute_result",
     "data": {
      "text/plain": [
       "  gender  count\n",
       "0      M  21218\n",
       "1      F   1858"
      ],
      "text/html": "<div>\n<style scoped>\n    .dataframe tbody tr th:only-of-type {\n        vertical-align: middle;\n    }\n\n    .dataframe tbody tr th {\n        vertical-align: top;\n    }\n\n    .dataframe thead th {\n        text-align: right;\n    }\n</style>\n<table border=\"1\" class=\"dataframe\">\n  <thead>\n    <tr style=\"text-align: right;\">\n      <th></th>\n      <th>gender</th>\n      <th>count</th>\n    </tr>\n  </thead>\n  <tbody>\n    <tr>\n      <th>0</th>\n      <td>M</td>\n      <td>21218</td>\n    </tr>\n    <tr>\n      <th>1</th>\n      <td>F</td>\n      <td>1858</td>\n    </tr>\n  </tbody>\n</table>\n</div>"
     },
     "metadata": {},
     "execution_count": 65
    }
   ],
   "source": [
    "gender"
   ]
  },
  {
   "cell_type": "code",
   "execution_count": 66,
   "metadata": {},
   "outputs": [
    {
     "output_type": "error",
     "ename": "KeyError",
     "evalue": "'count'",
     "traceback": [
      "\u001b[0;31m---------------------------------------------------------------------------\u001b[0m",
      "\u001b[0;31mKeyError\u001b[0m                                  Traceback (most recent call last)",
      "\u001b[0;32m~/opt/anaconda3/lib/python3.8/site-packages/pandas/core/indexes/base.py\u001b[0m in \u001b[0;36mget_loc\u001b[0;34m(self, key, method, tolerance)\u001b[0m\n\u001b[1;32m   2894\u001b[0m             \u001b[0;32mtry\u001b[0m\u001b[0;34m:\u001b[0m\u001b[0;34m\u001b[0m\u001b[0;34m\u001b[0m\u001b[0m\n\u001b[0;32m-> 2895\u001b[0;31m                 \u001b[0;32mreturn\u001b[0m \u001b[0mself\u001b[0m\u001b[0;34m.\u001b[0m\u001b[0m_engine\u001b[0m\u001b[0;34m.\u001b[0m\u001b[0mget_loc\u001b[0m\u001b[0;34m(\u001b[0m\u001b[0mcasted_key\u001b[0m\u001b[0;34m)\u001b[0m\u001b[0;34m\u001b[0m\u001b[0;34m\u001b[0m\u001b[0m\n\u001b[0m\u001b[1;32m   2896\u001b[0m             \u001b[0;32mexcept\u001b[0m \u001b[0mKeyError\u001b[0m \u001b[0;32mas\u001b[0m \u001b[0merr\u001b[0m\u001b[0;34m:\u001b[0m\u001b[0;34m\u001b[0m\u001b[0;34m\u001b[0m\u001b[0m\n",
      "\u001b[0;32mpandas/_libs/index.pyx\u001b[0m in \u001b[0;36mpandas._libs.index.IndexEngine.get_loc\u001b[0;34m()\u001b[0m\n",
      "\u001b[0;32mpandas/_libs/index.pyx\u001b[0m in \u001b[0;36mpandas._libs.index.IndexEngine.get_loc\u001b[0;34m()\u001b[0m\n",
      "\u001b[0;32mpandas/_libs/hashtable_class_helper.pxi\u001b[0m in \u001b[0;36mpandas._libs.hashtable.PyObjectHashTable.get_item\u001b[0;34m()\u001b[0m\n",
      "\u001b[0;32mpandas/_libs/hashtable_class_helper.pxi\u001b[0m in \u001b[0;36mpandas._libs.hashtable.PyObjectHashTable.get_item\u001b[0;34m()\u001b[0m\n",
      "\u001b[0;31mKeyError\u001b[0m: 'count'",
      "\nThe above exception was the direct cause of the following exception:\n",
      "\u001b[0;31mKeyError\u001b[0m                                  Traceback (most recent call last)",
      "\u001b[0;32m<ipython-input-66-d3772fa1aa96>\u001b[0m in \u001b[0;36m<module>\u001b[0;34m\u001b[0m\n\u001b[0;32m----> 1\u001b[0;31m \u001b[0mgender\u001b[0m\u001b[0;34m[\u001b[0m\u001b[0mcount\u001b[0m\u001b[0;34m]\u001b[0m \u001b[0;34m=\u001b[0m \u001b[0mgender\u001b[0m\u001b[0;34m[\u001b[0m\u001b[0mcount\u001b[0m\u001b[0;34m]\u001b[0m\u001b[0;34m.\u001b[0m\u001b[0mtwo_numeric\u001b[0m\u001b[0;34m(\u001b[0m\u001b[0mint\u001b[0m\u001b[0;34m)\u001b[0m\u001b[0;34m\u001b[0m\u001b[0;34m\u001b[0m\u001b[0m\n\u001b[0m",
      "\u001b[0;32m~/opt/anaconda3/lib/python3.8/site-packages/pandas/core/frame.py\u001b[0m in \u001b[0;36m__getitem__\u001b[0;34m(self, key)\u001b[0m\n\u001b[1;32m   2900\u001b[0m             \u001b[0;32mif\u001b[0m \u001b[0mself\u001b[0m\u001b[0;34m.\u001b[0m\u001b[0mcolumns\u001b[0m\u001b[0;34m.\u001b[0m\u001b[0mnlevels\u001b[0m \u001b[0;34m>\u001b[0m \u001b[0;36m1\u001b[0m\u001b[0;34m:\u001b[0m\u001b[0;34m\u001b[0m\u001b[0;34m\u001b[0m\u001b[0m\n\u001b[1;32m   2901\u001b[0m                 \u001b[0;32mreturn\u001b[0m \u001b[0mself\u001b[0m\u001b[0;34m.\u001b[0m\u001b[0m_getitem_multilevel\u001b[0m\u001b[0;34m(\u001b[0m\u001b[0mkey\u001b[0m\u001b[0;34m)\u001b[0m\u001b[0;34m\u001b[0m\u001b[0;34m\u001b[0m\u001b[0m\n\u001b[0;32m-> 2902\u001b[0;31m             \u001b[0mindexer\u001b[0m \u001b[0;34m=\u001b[0m \u001b[0mself\u001b[0m\u001b[0;34m.\u001b[0m\u001b[0mcolumns\u001b[0m\u001b[0;34m.\u001b[0m\u001b[0mget_loc\u001b[0m\u001b[0;34m(\u001b[0m\u001b[0mkey\u001b[0m\u001b[0;34m)\u001b[0m\u001b[0;34m\u001b[0m\u001b[0;34m\u001b[0m\u001b[0m\n\u001b[0m\u001b[1;32m   2903\u001b[0m             \u001b[0;32mif\u001b[0m \u001b[0mis_integer\u001b[0m\u001b[0;34m(\u001b[0m\u001b[0mindexer\u001b[0m\u001b[0;34m)\u001b[0m\u001b[0;34m:\u001b[0m\u001b[0;34m\u001b[0m\u001b[0;34m\u001b[0m\u001b[0m\n\u001b[1;32m   2904\u001b[0m                 \u001b[0mindexer\u001b[0m \u001b[0;34m=\u001b[0m \u001b[0;34m[\u001b[0m\u001b[0mindexer\u001b[0m\u001b[0;34m]\u001b[0m\u001b[0;34m\u001b[0m\u001b[0;34m\u001b[0m\u001b[0m\n",
      "\u001b[0;32m~/opt/anaconda3/lib/python3.8/site-packages/pandas/core/indexes/base.py\u001b[0m in \u001b[0;36mget_loc\u001b[0;34m(self, key, method, tolerance)\u001b[0m\n\u001b[1;32m   2895\u001b[0m                 \u001b[0;32mreturn\u001b[0m \u001b[0mself\u001b[0m\u001b[0;34m.\u001b[0m\u001b[0m_engine\u001b[0m\u001b[0;34m.\u001b[0m\u001b[0mget_loc\u001b[0m\u001b[0;34m(\u001b[0m\u001b[0mcasted_key\u001b[0m\u001b[0;34m)\u001b[0m\u001b[0;34m\u001b[0m\u001b[0;34m\u001b[0m\u001b[0m\n\u001b[1;32m   2896\u001b[0m             \u001b[0;32mexcept\u001b[0m \u001b[0mKeyError\u001b[0m \u001b[0;32mas\u001b[0m \u001b[0merr\u001b[0m\u001b[0;34m:\u001b[0m\u001b[0;34m\u001b[0m\u001b[0;34m\u001b[0m\u001b[0m\n\u001b[0;32m-> 2897\u001b[0;31m                 \u001b[0;32mraise\u001b[0m \u001b[0mKeyError\u001b[0m\u001b[0;34m(\u001b[0m\u001b[0mkey\u001b[0m\u001b[0;34m)\u001b[0m \u001b[0;32mfrom\u001b[0m \u001b[0merr\u001b[0m\u001b[0;34m\u001b[0m\u001b[0;34m\u001b[0m\u001b[0m\n\u001b[0m\u001b[1;32m   2898\u001b[0m \u001b[0;34m\u001b[0m\u001b[0m\n\u001b[1;32m   2899\u001b[0m         \u001b[0;32mif\u001b[0m \u001b[0mtolerance\u001b[0m \u001b[0;32mis\u001b[0m \u001b[0;32mnot\u001b[0m \u001b[0;32mNone\u001b[0m\u001b[0;34m:\u001b[0m\u001b[0;34m\u001b[0m\u001b[0;34m\u001b[0m\u001b[0m\n",
      "\u001b[0;31mKeyError\u001b[0m: 'count'"
     ]
    }
   ],
   "source": [
    "gender[count] = gender[count].two_numeric(int)"
   ]
  },
  {
   "cell_type": "code",
   "execution_count": 15,
   "metadata": {},
   "outputs": [
    {
     "output_type": "stream",
     "name": "stdout",
     "text": [
      "  AGE_GROUP     0\n0     22-30  7783\n1     18-21  5540\n2     31-40  4259\n3     41-50  2964\n4     51-60  1632\n5     15-17   720\n6     61-70   305\n7       71+    22\n"
     ]
    }
   ],
   "source": [
    "age = data.value_counts('AGE_GROUP').reset_index()\n",
    "print(age)"
   ]
  },
  {
   "cell_type": "code",
   "execution_count": null,
   "metadata": {},
   "outputs": [],
   "source": []
  },
  {
   "source": [
    "sns.barplot(x = \"gender\", y = \"count\", data = gender)\n",
    "plt.xlabel(\"z\")\n",
    "plt.ylabel(\"z\")\n",
    "plt.show()"
   ],
   "cell_type": "code",
   "metadata": {},
   "execution_count": 8,
   "outputs": [
    {
     "output_type": "error",
     "ename": "ValueError",
     "evalue": "Could not interpret input 'gender'",
     "traceback": [
      "\u001b[0;31m---------------------------------------------------------------------------\u001b[0m",
      "\u001b[0;31mValueError\u001b[0m                                Traceback (most recent call last)",
      "\u001b[0;32m<ipython-input-8-19f8b5903e17>\u001b[0m in \u001b[0;36m<module>\u001b[0;34m\u001b[0m\n\u001b[0;32m----> 1\u001b[0;31m \u001b[0msns\u001b[0m\u001b[0;34m.\u001b[0m\u001b[0mbarplot\u001b[0m\u001b[0;34m(\u001b[0m\u001b[0mx\u001b[0m \u001b[0;34m=\u001b[0m \u001b[0;34m\"gender\"\u001b[0m\u001b[0;34m,\u001b[0m \u001b[0my\u001b[0m \u001b[0;34m=\u001b[0m \u001b[0;34m\"count\"\u001b[0m\u001b[0;34m,\u001b[0m \u001b[0mdata\u001b[0m \u001b[0;34m=\u001b[0m \u001b[0mgender\u001b[0m\u001b[0;34m)\u001b[0m\u001b[0;34m\u001b[0m\u001b[0;34m\u001b[0m\u001b[0m\n\u001b[0m\u001b[1;32m      2\u001b[0m \u001b[0mplt\u001b[0m\u001b[0;34m.\u001b[0m\u001b[0mxlabel\u001b[0m\u001b[0;34m(\u001b[0m\u001b[0;34m\"z\"\u001b[0m\u001b[0;34m)\u001b[0m\u001b[0;34m\u001b[0m\u001b[0;34m\u001b[0m\u001b[0m\n\u001b[1;32m      3\u001b[0m \u001b[0mplt\u001b[0m\u001b[0;34m.\u001b[0m\u001b[0mylabel\u001b[0m\u001b[0;34m(\u001b[0m\u001b[0;34m\"z\"\u001b[0m\u001b[0;34m)\u001b[0m\u001b[0;34m\u001b[0m\u001b[0;34m\u001b[0m\u001b[0m\n\u001b[1;32m      4\u001b[0m \u001b[0mplt\u001b[0m\u001b[0;34m.\u001b[0m\u001b[0mshow\u001b[0m\u001b[0;34m(\u001b[0m\u001b[0;34m)\u001b[0m\u001b[0;34m\u001b[0m\u001b[0;34m\u001b[0m\u001b[0m\n",
      "\u001b[0;32m~/opt/anaconda3/lib/python3.8/site-packages/seaborn/_decorators.py\u001b[0m in \u001b[0;36minner_f\u001b[0;34m(*args, **kwargs)\u001b[0m\n\u001b[1;32m     44\u001b[0m             )\n\u001b[1;32m     45\u001b[0m         \u001b[0mkwargs\u001b[0m\u001b[0;34m.\u001b[0m\u001b[0mupdate\u001b[0m\u001b[0;34m(\u001b[0m\u001b[0;34m{\u001b[0m\u001b[0mk\u001b[0m\u001b[0;34m:\u001b[0m \u001b[0marg\u001b[0m \u001b[0;32mfor\u001b[0m \u001b[0mk\u001b[0m\u001b[0;34m,\u001b[0m \u001b[0marg\u001b[0m \u001b[0;32min\u001b[0m \u001b[0mzip\u001b[0m\u001b[0;34m(\u001b[0m\u001b[0msig\u001b[0m\u001b[0;34m.\u001b[0m\u001b[0mparameters\u001b[0m\u001b[0;34m,\u001b[0m \u001b[0margs\u001b[0m\u001b[0;34m)\u001b[0m\u001b[0;34m}\u001b[0m\u001b[0;34m)\u001b[0m\u001b[0;34m\u001b[0m\u001b[0;34m\u001b[0m\u001b[0m\n\u001b[0;32m---> 46\u001b[0;31m         \u001b[0;32mreturn\u001b[0m \u001b[0mf\u001b[0m\u001b[0;34m(\u001b[0m\u001b[0;34m**\u001b[0m\u001b[0mkwargs\u001b[0m\u001b[0;34m)\u001b[0m\u001b[0;34m\u001b[0m\u001b[0;34m\u001b[0m\u001b[0m\n\u001b[0m\u001b[1;32m     47\u001b[0m     \u001b[0;32mreturn\u001b[0m \u001b[0minner_f\u001b[0m\u001b[0;34m\u001b[0m\u001b[0;34m\u001b[0m\u001b[0m\n\u001b[1;32m     48\u001b[0m \u001b[0;34m\u001b[0m\u001b[0m\n",
      "\u001b[0;32m~/opt/anaconda3/lib/python3.8/site-packages/seaborn/categorical.py\u001b[0m in \u001b[0;36mbarplot\u001b[0;34m(x, y, hue, data, order, hue_order, estimator, ci, n_boot, units, seed, orient, color, palette, saturation, errcolor, errwidth, capsize, dodge, ax, **kwargs)\u001b[0m\n\u001b[1;32m   3167\u001b[0m ):\n\u001b[1;32m   3168\u001b[0m \u001b[0;34m\u001b[0m\u001b[0m\n\u001b[0;32m-> 3169\u001b[0;31m     plotter = _BarPlotter(x, y, hue, data, order, hue_order,\n\u001b[0m\u001b[1;32m   3170\u001b[0m                           \u001b[0mestimator\u001b[0m\u001b[0;34m,\u001b[0m \u001b[0mci\u001b[0m\u001b[0;34m,\u001b[0m \u001b[0mn_boot\u001b[0m\u001b[0;34m,\u001b[0m \u001b[0munits\u001b[0m\u001b[0;34m,\u001b[0m \u001b[0mseed\u001b[0m\u001b[0;34m,\u001b[0m\u001b[0;34m\u001b[0m\u001b[0;34m\u001b[0m\u001b[0m\n\u001b[1;32m   3171\u001b[0m                           \u001b[0morient\u001b[0m\u001b[0;34m,\u001b[0m \u001b[0mcolor\u001b[0m\u001b[0;34m,\u001b[0m \u001b[0mpalette\u001b[0m\u001b[0;34m,\u001b[0m \u001b[0msaturation\u001b[0m\u001b[0;34m,\u001b[0m\u001b[0;34m\u001b[0m\u001b[0;34m\u001b[0m\u001b[0m\n",
      "\u001b[0;32m~/opt/anaconda3/lib/python3.8/site-packages/seaborn/categorical.py\u001b[0m in \u001b[0;36m__init__\u001b[0;34m(self, x, y, hue, data, order, hue_order, estimator, ci, n_boot, units, seed, orient, color, palette, saturation, errcolor, errwidth, capsize, dodge)\u001b[0m\n\u001b[1;32m   1582\u001b[0m                  errwidth, capsize, dodge):\n\u001b[1;32m   1583\u001b[0m         \u001b[0;34m\"\"\"Initialize the plotter.\"\"\"\u001b[0m\u001b[0;34m\u001b[0m\u001b[0;34m\u001b[0m\u001b[0m\n\u001b[0;32m-> 1584\u001b[0;31m         self.establish_variables(x, y, hue, data, orient,\n\u001b[0m\u001b[1;32m   1585\u001b[0m                                  order, hue_order, units)\n\u001b[1;32m   1586\u001b[0m         \u001b[0mself\u001b[0m\u001b[0;34m.\u001b[0m\u001b[0mestablish_colors\u001b[0m\u001b[0;34m(\u001b[0m\u001b[0mcolor\u001b[0m\u001b[0;34m,\u001b[0m \u001b[0mpalette\u001b[0m\u001b[0;34m,\u001b[0m \u001b[0msaturation\u001b[0m\u001b[0;34m)\u001b[0m\u001b[0;34m\u001b[0m\u001b[0;34m\u001b[0m\u001b[0m\n",
      "\u001b[0;32m~/opt/anaconda3/lib/python3.8/site-packages/seaborn/categorical.py\u001b[0m in \u001b[0;36mestablish_variables\u001b[0;34m(self, x, y, hue, data, orient, order, hue_order, units)\u001b[0m\n\u001b[1;32m    151\u001b[0m                 \u001b[0;32mif\u001b[0m \u001b[0misinstance\u001b[0m\u001b[0;34m(\u001b[0m\u001b[0mvar\u001b[0m\u001b[0;34m,\u001b[0m \u001b[0mstr\u001b[0m\u001b[0;34m)\u001b[0m\u001b[0;34m:\u001b[0m\u001b[0;34m\u001b[0m\u001b[0;34m\u001b[0m\u001b[0m\n\u001b[1;32m    152\u001b[0m                     \u001b[0merr\u001b[0m \u001b[0;34m=\u001b[0m \u001b[0;34m\"Could not interpret input '{}'\"\u001b[0m\u001b[0;34m.\u001b[0m\u001b[0mformat\u001b[0m\u001b[0;34m(\u001b[0m\u001b[0mvar\u001b[0m\u001b[0;34m)\u001b[0m\u001b[0;34m\u001b[0m\u001b[0;34m\u001b[0m\u001b[0m\n\u001b[0;32m--> 153\u001b[0;31m                     \u001b[0;32mraise\u001b[0m \u001b[0mValueError\u001b[0m\u001b[0;34m(\u001b[0m\u001b[0merr\u001b[0m\u001b[0;34m)\u001b[0m\u001b[0;34m\u001b[0m\u001b[0;34m\u001b[0m\u001b[0m\n\u001b[0m\u001b[1;32m    154\u001b[0m \u001b[0;34m\u001b[0m\u001b[0m\n\u001b[1;32m    155\u001b[0m             \u001b[0;31m# Figure out the plotting orientation\u001b[0m\u001b[0;34m\u001b[0m\u001b[0;34m\u001b[0m\u001b[0;34m\u001b[0m\u001b[0m\n",
      "\u001b[0;31mValueError\u001b[0m: Could not interpret input 'gender'"
     ]
    }
   ]
  },
  {
   "cell_type": "code",
   "execution_count": 72,
   "metadata": {},
   "outputs": [
    {
     "output_type": "error",
     "ename": "KeyError",
     "evalue": "'gender'",
     "traceback": [
      "\u001b[0;31m---------------------------------------------------------------------------\u001b[0m",
      "\u001b[0;31mKeyError\u001b[0m                                  Traceback (most recent call last)",
      "\u001b[0;32m~/opt/anaconda3/lib/python3.8/site-packages/pandas/core/indexes/base.py\u001b[0m in \u001b[0;36mget_loc\u001b[0;34m(self, key, method, tolerance)\u001b[0m\n\u001b[1;32m   2894\u001b[0m             \u001b[0;32mtry\u001b[0m\u001b[0;34m:\u001b[0m\u001b[0;34m\u001b[0m\u001b[0;34m\u001b[0m\u001b[0m\n\u001b[0;32m-> 2895\u001b[0;31m                 \u001b[0;32mreturn\u001b[0m \u001b[0mself\u001b[0m\u001b[0;34m.\u001b[0m\u001b[0m_engine\u001b[0m\u001b[0;34m.\u001b[0m\u001b[0mget_loc\u001b[0m\u001b[0;34m(\u001b[0m\u001b[0mcasted_key\u001b[0m\u001b[0;34m)\u001b[0m\u001b[0;34m\u001b[0m\u001b[0;34m\u001b[0m\u001b[0m\n\u001b[0m\u001b[1;32m   2896\u001b[0m             \u001b[0;32mexcept\u001b[0m \u001b[0mKeyError\u001b[0m \u001b[0;32mas\u001b[0m \u001b[0merr\u001b[0m\u001b[0;34m:\u001b[0m\u001b[0;34m\u001b[0m\u001b[0;34m\u001b[0m\u001b[0m\n",
      "\u001b[0;32mpandas/_libs/index.pyx\u001b[0m in \u001b[0;36mpandas._libs.index.IndexEngine.get_loc\u001b[0;34m()\u001b[0m\n",
      "\u001b[0;32mpandas/_libs/index.pyx\u001b[0m in \u001b[0;36mpandas._libs.index.IndexEngine.get_loc\u001b[0;34m()\u001b[0m\n",
      "\u001b[0;32mpandas/_libs/hashtable_class_helper.pxi\u001b[0m in \u001b[0;36mpandas._libs.hashtable.PyObjectHashTable.get_item\u001b[0;34m()\u001b[0m\n",
      "\u001b[0;32mpandas/_libs/hashtable_class_helper.pxi\u001b[0m in \u001b[0;36mpandas._libs.hashtable.PyObjectHashTable.get_item\u001b[0;34m()\u001b[0m\n",
      "\u001b[0;31mKeyError\u001b[0m: 'gender'",
      "\nThe above exception was the direct cause of the following exception:\n",
      "\u001b[0;31mKeyError\u001b[0m                                  Traceback (most recent call last)",
      "\u001b[0;32m<ipython-input-72-6fbb4eea3f8e>\u001b[0m in \u001b[0;36m<module>\u001b[0;34m\u001b[0m\n\u001b[0;32m----> 1\u001b[0;31m \u001b[0mdata\u001b[0m\u001b[0;34m[\u001b[0m\u001b[0;34m'gender'\u001b[0m\u001b[0;34m]\u001b[0m\u001b[0;34m.\u001b[0m\u001b[0mvalue_counts\u001b[0m\u001b[0;34m(\u001b[0m\u001b[0;34m)\u001b[0m\u001b[0;34m\u001b[0m\u001b[0;34m\u001b[0m\u001b[0m\n\u001b[0m\u001b[1;32m      2\u001b[0m stateCrashes = pd.DataFrame(joindf['gender'].value_counts(), index =['M',\n\u001b[1;32m      3\u001b[0m                                 'F'])\n",
      "\u001b[0;32m~/opt/anaconda3/lib/python3.8/site-packages/pandas/core/frame.py\u001b[0m in \u001b[0;36m__getitem__\u001b[0;34m(self, key)\u001b[0m\n\u001b[1;32m   2900\u001b[0m             \u001b[0;32mif\u001b[0m \u001b[0mself\u001b[0m\u001b[0;34m.\u001b[0m\u001b[0mcolumns\u001b[0m\u001b[0;34m.\u001b[0m\u001b[0mnlevels\u001b[0m \u001b[0;34m>\u001b[0m \u001b[0;36m1\u001b[0m\u001b[0;34m:\u001b[0m\u001b[0;34m\u001b[0m\u001b[0;34m\u001b[0m\u001b[0m\n\u001b[1;32m   2901\u001b[0m                 \u001b[0;32mreturn\u001b[0m \u001b[0mself\u001b[0m\u001b[0;34m.\u001b[0m\u001b[0m_getitem_multilevel\u001b[0m\u001b[0;34m(\u001b[0m\u001b[0mkey\u001b[0m\u001b[0;34m)\u001b[0m\u001b[0;34m\u001b[0m\u001b[0;34m\u001b[0m\u001b[0m\n\u001b[0;32m-> 2902\u001b[0;31m             \u001b[0mindexer\u001b[0m \u001b[0;34m=\u001b[0m \u001b[0mself\u001b[0m\u001b[0;34m.\u001b[0m\u001b[0mcolumns\u001b[0m\u001b[0;34m.\u001b[0m\u001b[0mget_loc\u001b[0m\u001b[0;34m(\u001b[0m\u001b[0mkey\u001b[0m\u001b[0;34m)\u001b[0m\u001b[0;34m\u001b[0m\u001b[0;34m\u001b[0m\u001b[0m\n\u001b[0m\u001b[1;32m   2903\u001b[0m             \u001b[0;32mif\u001b[0m \u001b[0mis_integer\u001b[0m\u001b[0;34m(\u001b[0m\u001b[0mindexer\u001b[0m\u001b[0;34m)\u001b[0m\u001b[0;34m:\u001b[0m\u001b[0;34m\u001b[0m\u001b[0;34m\u001b[0m\u001b[0m\n\u001b[1;32m   2904\u001b[0m                 \u001b[0mindexer\u001b[0m \u001b[0;34m=\u001b[0m \u001b[0;34m[\u001b[0m\u001b[0mindexer\u001b[0m\u001b[0;34m]\u001b[0m\u001b[0;34m\u001b[0m\u001b[0;34m\u001b[0m\u001b[0m\n",
      "\u001b[0;32m~/opt/anaconda3/lib/python3.8/site-packages/pandas/core/indexes/base.py\u001b[0m in \u001b[0;36mget_loc\u001b[0;34m(self, key, method, tolerance)\u001b[0m\n\u001b[1;32m   2895\u001b[0m                 \u001b[0;32mreturn\u001b[0m \u001b[0mself\u001b[0m\u001b[0;34m.\u001b[0m\u001b[0m_engine\u001b[0m\u001b[0;34m.\u001b[0m\u001b[0mget_loc\u001b[0m\u001b[0;34m(\u001b[0m\u001b[0mcasted_key\u001b[0m\u001b[0;34m)\u001b[0m\u001b[0;34m\u001b[0m\u001b[0;34m\u001b[0m\u001b[0m\n\u001b[1;32m   2896\u001b[0m             \u001b[0;32mexcept\u001b[0m \u001b[0mKeyError\u001b[0m \u001b[0;32mas\u001b[0m \u001b[0merr\u001b[0m\u001b[0;34m:\u001b[0m\u001b[0;34m\u001b[0m\u001b[0;34m\u001b[0m\u001b[0m\n\u001b[0;32m-> 2897\u001b[0;31m                 \u001b[0;32mraise\u001b[0m \u001b[0mKeyError\u001b[0m\u001b[0;34m(\u001b[0m\u001b[0mkey\u001b[0m\u001b[0;34m)\u001b[0m \u001b[0;32mfrom\u001b[0m \u001b[0merr\u001b[0m\u001b[0;34m\u001b[0m\u001b[0;34m\u001b[0m\u001b[0m\n\u001b[0m\u001b[1;32m   2898\u001b[0m \u001b[0;34m\u001b[0m\u001b[0m\n\u001b[1;32m   2899\u001b[0m         \u001b[0;32mif\u001b[0m \u001b[0mtolerance\u001b[0m \u001b[0;32mis\u001b[0m \u001b[0;32mnot\u001b[0m \u001b[0;32mNone\u001b[0m\u001b[0;34m:\u001b[0m\u001b[0;34m\u001b[0m\u001b[0;34m\u001b[0m\u001b[0m\n",
      "\u001b[0;31mKeyError\u001b[0m: 'gender'"
     ]
    }
   ],
   "source": [
    "data['gender'].value_counts()\n",
    "stateCrashes = pd.DataFrame(joindf['gender'].value_counts(), index =['M',\n",
    "                                'F'])"
   ]
  },
  {
   "cell_type": "code",
   "execution_count": null,
   "metadata": {},
   "outputs": [],
   "source": []
  },
  {
   "cell_type": "code",
   "execution_count": null,
   "metadata": {},
   "outputs": [],
   "source": []
  },
  {
   "cell_type": "code",
   "execution_count": null,
   "metadata": {},
   "outputs": [],
   "source": []
  }
 ]
}