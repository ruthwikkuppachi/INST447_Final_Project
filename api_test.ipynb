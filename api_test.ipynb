{
 "metadata": {
  "language_info": {
   "codemirror_mode": {
    "name": "ipython",
    "version": 3
   },
   "file_extension": ".py",
   "mimetype": "text/x-python",
   "name": "python",
   "nbconvert_exporter": "python",
   "pygments_lexer": "ipython3",
   "version": "3.8.5"
  },
  "orig_nbformat": 2,
  "kernelspec": {
   "name": "python385jvsc74a57bd0d04d45689db1d358fd8ed664091df199d652bae4d6fc876f6de79fd09feebef2",
   "display_name": "Python 3.8.5 64-bit ('base': conda)"
  }
 },
 "nbformat": 4,
 "nbformat_minor": 2,
 "cells": [
  {
   "cell_type": "code",
   "execution_count": 2,
   "metadata": {},
   "outputs": [
    {
     "output_type": "stream",
     "name": "stdout",
     "text": [
      "200\n"
     ]
    }
   ],
   "source": [
    "\n",
    "'''\n",
    "Importing Libraries\n",
    "'''\n",
    "import pandas as pd\n",
    "import numpy as np \n",
    "import requests\n",
    "import matplotlib.pyplot as plt\n",
    "\n",
    "URL = 'https://opendata.arcgis.com/datasets/9fa34e198ad240358c7c36bc063d2058_40.geojson'\n",
    "\n",
    "data = requests.get(URL)\n",
    "\n",
    "print(data.status_code)"
   ]
  },
  {
   "cell_type": "code",
   "execution_count": 3,
   "metadata": {},
   "outputs": [
    {
     "output_type": "execute_result",
     "data": {
      "text/plain": [
       "   OBJECTID  RID  GENERIC_CASE_ID  GENERIC_OFFENDER_ID  CHARGE_NUMBER  \\\n",
       "0         1    1          3574668              3485785              1   \n",
       "1         2    2          3806508              7427096              9   \n",
       "2         3    3          3806508              7427096             12   \n",
       "3         4    4          3806508              7427096             13   \n",
       "4         5    5          3806508              7427096             15   \n",
       "\n",
       "   SENTENCE_YEAR   RACE GENDER AGE_GROUP  \\\n",
       "0           2018  Black      M     15-17   \n",
       "1           2018  Black      M     15-17   \n",
       "2           2018  Black      M     15-17   \n",
       "3           2018  Black      M     15-17   \n",
       "4           2018  Black      M     15-17   \n",
       "\n",
       "                                             OFFENSE  ...  \\\n",
       "0                             1ST DEG MURDER W/ARMED  ...   \n",
       "1                                         Conspiracy  ...   \n",
       "2                                           Murder I  ...   \n",
       "3                             1ST DEG MURDER W/ARMED  ...   \n",
       "4  Poss Firearm During Crime of Violence or Dange...  ...   \n",
       "\n",
       "  OFFENSE_SEVERITY_GROUP                SENTENCE_TYPE SENTENCE_IMPOSED_MONTHS  \\\n",
       "0                     M1  Indeterminate/Incarceration                     NaN   \n",
       "1                     M9                Indeterminate                     NaN   \n",
       "2                     M1                         Life                     NaN   \n",
       "3                     M1                         Life                     NaN   \n",
       "4                     M5                Indeterminate                     NaN   \n",
       "\n",
       "  SENTENCE_SUSPENDED_MONTHS  SENTENCE_TO_SERVE_MONTHS  \\\n",
       "0                       NaN                       NaN   \n",
       "1                       NaN                       NaN   \n",
       "2                       NaN                       NaN   \n",
       "3                       NaN                       NaN   \n",
       "4                       NaN                       NaN   \n",
       "\n",
       "   SENTENCE_PROBATION_MONTHS  VVCA_AMT  FINE_AMT  RESTITUTION_AMT  \\\n",
       "0                        NaN       100       0.0              0.0   \n",
       "1                        NaN         0       0.0              0.0   \n",
       "2                        NaN         0       0.0              0.0   \n",
       "3                        NaN         0       0.0              0.0   \n",
       "4                        NaN         0       0.0              0.0   \n",
       "\n",
       "   FINE_SUSPENDED_AMT  \n",
       "0                 0.0  \n",
       "1                 0.0  \n",
       "2                 0.0  \n",
       "3                 0.0  \n",
       "4                 0.0  \n",
       "\n",
       "[5 rows x 22 columns]"
      ],
      "text/html": "<div>\n<style scoped>\n    .dataframe tbody tr th:only-of-type {\n        vertical-align: middle;\n    }\n\n    .dataframe tbody tr th {\n        vertical-align: top;\n    }\n\n    .dataframe thead th {\n        text-align: right;\n    }\n</style>\n<table border=\"1\" class=\"dataframe\">\n  <thead>\n    <tr style=\"text-align: right;\">\n      <th></th>\n      <th>OBJECTID</th>\n      <th>RID</th>\n      <th>GENERIC_CASE_ID</th>\n      <th>GENERIC_OFFENDER_ID</th>\n      <th>CHARGE_NUMBER</th>\n      <th>SENTENCE_YEAR</th>\n      <th>RACE</th>\n      <th>GENDER</th>\n      <th>AGE_GROUP</th>\n      <th>OFFENSE</th>\n      <th>...</th>\n      <th>OFFENSE_SEVERITY_GROUP</th>\n      <th>SENTENCE_TYPE</th>\n      <th>SENTENCE_IMPOSED_MONTHS</th>\n      <th>SENTENCE_SUSPENDED_MONTHS</th>\n      <th>SENTENCE_TO_SERVE_MONTHS</th>\n      <th>SENTENCE_PROBATION_MONTHS</th>\n      <th>VVCA_AMT</th>\n      <th>FINE_AMT</th>\n      <th>RESTITUTION_AMT</th>\n      <th>FINE_SUSPENDED_AMT</th>\n    </tr>\n  </thead>\n  <tbody>\n    <tr>\n      <th>0</th>\n      <td>1</td>\n      <td>1</td>\n      <td>3574668</td>\n      <td>3485785</td>\n      <td>1</td>\n      <td>2018</td>\n      <td>Black</td>\n      <td>M</td>\n      <td>15-17</td>\n      <td>1ST DEG MURDER W/ARMED</td>\n      <td>...</td>\n      <td>M1</td>\n      <td>Indeterminate/Incarceration</td>\n      <td>NaN</td>\n      <td>NaN</td>\n      <td>NaN</td>\n      <td>NaN</td>\n      <td>100</td>\n      <td>0.0</td>\n      <td>0.0</td>\n      <td>0.0</td>\n    </tr>\n    <tr>\n      <th>1</th>\n      <td>2</td>\n      <td>2</td>\n      <td>3806508</td>\n      <td>7427096</td>\n      <td>9</td>\n      <td>2018</td>\n      <td>Black</td>\n      <td>M</td>\n      <td>15-17</td>\n      <td>Conspiracy</td>\n      <td>...</td>\n      <td>M9</td>\n      <td>Indeterminate</td>\n      <td>NaN</td>\n      <td>NaN</td>\n      <td>NaN</td>\n      <td>NaN</td>\n      <td>0</td>\n      <td>0.0</td>\n      <td>0.0</td>\n      <td>0.0</td>\n    </tr>\n    <tr>\n      <th>2</th>\n      <td>3</td>\n      <td>3</td>\n      <td>3806508</td>\n      <td>7427096</td>\n      <td>12</td>\n      <td>2018</td>\n      <td>Black</td>\n      <td>M</td>\n      <td>15-17</td>\n      <td>Murder I</td>\n      <td>...</td>\n      <td>M1</td>\n      <td>Life</td>\n      <td>NaN</td>\n      <td>NaN</td>\n      <td>NaN</td>\n      <td>NaN</td>\n      <td>0</td>\n      <td>0.0</td>\n      <td>0.0</td>\n      <td>0.0</td>\n    </tr>\n    <tr>\n      <th>3</th>\n      <td>4</td>\n      <td>4</td>\n      <td>3806508</td>\n      <td>7427096</td>\n      <td>13</td>\n      <td>2018</td>\n      <td>Black</td>\n      <td>M</td>\n      <td>15-17</td>\n      <td>1ST DEG MURDER W/ARMED</td>\n      <td>...</td>\n      <td>M1</td>\n      <td>Life</td>\n      <td>NaN</td>\n      <td>NaN</td>\n      <td>NaN</td>\n      <td>NaN</td>\n      <td>0</td>\n      <td>0.0</td>\n      <td>0.0</td>\n      <td>0.0</td>\n    </tr>\n    <tr>\n      <th>4</th>\n      <td>5</td>\n      <td>5</td>\n      <td>3806508</td>\n      <td>7427096</td>\n      <td>15</td>\n      <td>2018</td>\n      <td>Black</td>\n      <td>M</td>\n      <td>15-17</td>\n      <td>Poss Firearm During Crime of Violence or Dange...</td>\n      <td>...</td>\n      <td>M5</td>\n      <td>Indeterminate</td>\n      <td>NaN</td>\n      <td>NaN</td>\n      <td>NaN</td>\n      <td>NaN</td>\n      <td>0</td>\n      <td>0.0</td>\n      <td>0.0</td>\n      <td>0.0</td>\n    </tr>\n  </tbody>\n</table>\n<p>5 rows × 22 columns</p>\n</div>"
     },
     "metadata": {},
     "execution_count": 3
    }
   ],
   "source": [
    "data = pd.read_csv('Felony_Sentences.csv')\n",
    "\n",
    "data.head()"
   ]
  },
  {
   "cell_type": "code",
   "execution_count": null,
   "metadata": {},
   "outputs": [],
   "source": []
  }
 ]
}